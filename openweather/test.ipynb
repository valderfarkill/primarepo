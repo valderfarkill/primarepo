{
 "cells": [
  {
   "cell_type": "code",
   "execution_count": 11,
   "metadata": {},
   "outputs": [],
   "source": [
    "import os\n",
    "from dotenv import load_dotenv\n",
    "load_dotenv('.env')\n",
    "api_key : str = os.getenv('API_KEY')\n",
    "\n",
    "url = 'http://api.openweathermap.org/data/2.5/weather?q={}&appid={}'"
   ]
  },
  {
   "cell_type": "code",
   "execution_count": 14,
   "metadata": {},
   "outputs": [
    {
     "data": {
      "text/plain": [
       "{'coord': {'lon': 36.8167, 'lat': -1.2833},\n",
       " 'weather': [{'id': 500,\n",
       "   'main': 'Rain',\n",
       "   'description': 'light rain',\n",
       "   'icon': '10d'}],\n",
       " 'base': 'stations',\n",
       " 'main': {'temp': 295.77,\n",
       "  'feels_like': 295.65,\n",
       "  'temp_min': 295.35,\n",
       "  'temp_max': 295.77,\n",
       "  'pressure': 1019,\n",
       "  'humidity': 60},\n",
       " 'visibility': 10000,\n",
       " 'wind': {'speed': 4.63, 'deg': 90},\n",
       " 'rain': {'1h': 0.7},\n",
       " 'clouds': {'all': 75},\n",
       " 'dt': 1683642430,\n",
       " 'sys': {'type': 1,\n",
       "  'id': 2543,\n",
       "  'country': 'KE',\n",
       "  'sunrise': 1683602839,\n",
       "  'sunset': 1683646265},\n",
       " 'timezone': 10800,\n",
       " 'id': 184745,\n",
       " 'name': 'Nairobi',\n",
       " 'cod': 200}"
      ]
     },
     "execution_count": 14,
     "metadata": {},
     "output_type": "execute_result"
    }
   ],
   "source": [
    "import requests\n",
    "\n",
    "city = 'Nairobi'\n",
    "\n",
    "result = requests.get(url.format(city, api_key))     \n",
    "json = result.json()\n",
    "json"
   ]
  },
  {
   "cell_type": "code",
   "execution_count": 15,
   "metadata": {},
   "outputs": [
    {
     "data": {
      "text/plain": [
       "4.63"
      ]
     },
     "execution_count": 15,
     "metadata": {},
     "output_type": "execute_result"
    }
   ],
   "source": [
    "json['wind']['speed']"
   ]
  },
  {
   "cell_type": "code",
   "execution_count": null,
   "metadata": {},
   "outputs": [],
   "source": []
  }
 ],
 "metadata": {
  "kernelspec": {
   "display_name": "Python 3",
   "language": "python",
   "name": "python3"
  },
  "language_info": {
   "codemirror_mode": {
    "name": "ipython",
    "version": 3
   },
   "file_extension": ".py",
   "mimetype": "text/x-python",
   "name": "python",
   "nbconvert_exporter": "python",
   "pygments_lexer": "ipython3",
   "version": "3.10.9"
  },
  "orig_nbformat": 4
 },
 "nbformat": 4,
 "nbformat_minor": 2
}
